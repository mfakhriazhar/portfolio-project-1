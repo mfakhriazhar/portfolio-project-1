{
 "cells": [
  {
   "cell_type": "markdown",
   "id": "e3af6cc5-a451-4805-b5ab-5eaef6203fa4",
   "metadata": {},
   "source": [
    "Case Study 01: Sales Force Training / Muhammad Fakhri Azhar"
   ]
  },
  {
   "cell_type": "code",
   "execution_count": 4,
   "id": "45d6ec75-c5b9-4968-b6ab-4301c99fe261",
   "metadata": {},
   "outputs": [],
   "source": [
    "#Import Libraries\n",
    "import pandas as pd\n",
    "import numpy as np\n",
    "import scipy.stats as stats"
   ]
  },
  {
   "cell_type": "code",
   "execution_count": 7,
   "id": "a82f6de6-d495-4aac-b750-6138aea15055",
   "metadata": {},
   "outputs": [
    {
     "data": {
      "text/html": [
       "<div>\n",
       "<style scoped>\n",
       "    .dataframe tbody tr th:only-of-type {\n",
       "        vertical-align: middle;\n",
       "    }\n",
       "\n",
       "    .dataframe tbody tr th {\n",
       "        vertical-align: top;\n",
       "    }\n",
       "\n",
       "    .dataframe thead th {\n",
       "        text-align: right;\n",
       "    }\n",
       "</style>\n",
       "<table border=\"1\" class=\"dataframe\">\n",
       "  <thead>\n",
       "    <tr style=\"text-align: right;\">\n",
       "      <th></th>\n",
       "      <th>TransactionAmount</th>\n",
       "    </tr>\n",
       "  </thead>\n",
       "  <tbody>\n",
       "    <tr>\n",
       "      <th>0</th>\n",
       "      <td>100</td>\n",
       "    </tr>\n",
       "    <tr>\n",
       "      <th>1</th>\n",
       "      <td>150</td>\n",
       "    </tr>\n",
       "    <tr>\n",
       "      <th>2</th>\n",
       "      <td>50</td>\n",
       "    </tr>\n",
       "    <tr>\n",
       "      <th>3</th>\n",
       "      <td>100</td>\n",
       "    </tr>\n",
       "    <tr>\n",
       "      <th>4</th>\n",
       "      <td>130</td>\n",
       "    </tr>\n",
       "    <tr>\n",
       "      <th>5</th>\n",
       "      <td>120</td>\n",
       "    </tr>\n",
       "    <tr>\n",
       "      <th>6</th>\n",
       "      <td>100</td>\n",
       "    </tr>\n",
       "    <tr>\n",
       "      <th>7</th>\n",
       "      <td>85</td>\n",
       "    </tr>\n",
       "    <tr>\n",
       "      <th>8</th>\n",
       "      <td>70</td>\n",
       "    </tr>\n",
       "    <tr>\n",
       "      <th>9</th>\n",
       "      <td>150</td>\n",
       "    </tr>\n",
       "    <tr>\n",
       "      <th>10</th>\n",
       "      <td>150</td>\n",
       "    </tr>\n",
       "    <tr>\n",
       "      <th>11</th>\n",
       "      <td>120</td>\n",
       "    </tr>\n",
       "    <tr>\n",
       "      <th>12</th>\n",
       "      <td>50</td>\n",
       "    </tr>\n",
       "    <tr>\n",
       "      <th>13</th>\n",
       "      <td>100</td>\n",
       "    </tr>\n",
       "    <tr>\n",
       "      <th>14</th>\n",
       "      <td>100</td>\n",
       "    </tr>\n",
       "    <tr>\n",
       "      <th>15</th>\n",
       "      <td>140</td>\n",
       "    </tr>\n",
       "    <tr>\n",
       "      <th>16</th>\n",
       "      <td>90</td>\n",
       "    </tr>\n",
       "    <tr>\n",
       "      <th>17</th>\n",
       "      <td>150</td>\n",
       "    </tr>\n",
       "    <tr>\n",
       "      <th>18</th>\n",
       "      <td>50</td>\n",
       "    </tr>\n",
       "    <tr>\n",
       "      <th>19</th>\n",
       "      <td>90</td>\n",
       "    </tr>\n",
       "    <tr>\n",
       "      <th>20</th>\n",
       "      <td>120</td>\n",
       "    </tr>\n",
       "    <tr>\n",
       "      <th>21</th>\n",
       "      <td>100</td>\n",
       "    </tr>\n",
       "    <tr>\n",
       "      <th>22</th>\n",
       "      <td>110</td>\n",
       "    </tr>\n",
       "    <tr>\n",
       "      <th>23</th>\n",
       "      <td>75</td>\n",
       "    </tr>\n",
       "    <tr>\n",
       "      <th>24</th>\n",
       "      <td>65</td>\n",
       "    </tr>\n",
       "  </tbody>\n",
       "</table>\n",
       "</div>"
      ],
      "text/plain": [
       "    TransactionAmount\n",
       "0                 100\n",
       "1                 150\n",
       "2                  50\n",
       "3                 100\n",
       "4                 130\n",
       "5                 120\n",
       "6                 100\n",
       "7                  85\n",
       "8                  70\n",
       "9                 150\n",
       "10                150\n",
       "11                120\n",
       "12                 50\n",
       "13                100\n",
       "14                100\n",
       "15                140\n",
       "16                 90\n",
       "17                150\n",
       "18                 50\n",
       "19                 90\n",
       "20                120\n",
       "21                100\n",
       "22                110\n",
       "23                 75\n",
       "24                 65"
      ]
     },
     "execution_count": 7,
     "metadata": {},
     "output_type": "execute_result"
    }
   ],
   "source": [
    "#Create DataFrame\n",
    "data = [100,150,50,100,130,120,100,85,70,150,150,120,50,100,100,140,90,150,50,90,120,100,110,75,65]\n",
    "TransactionAmount = pd.DataFrame(data, columns=['TransactionAmount'])\n",
    "TransactionAmount"
   ]
  },
  {
   "cell_type": "code",
   "execution_count": 10,
   "id": "67c68cac-6f38-4116-a8c1-f0ad517564b4",
   "metadata": {},
   "outputs": [
    {
     "name": "stdout",
     "output_type": "stream",
     "text": [
      "Mean:  102.6\n",
      "Median:  100\n",
      "Mode:  100\n"
     ]
    }
   ],
   "source": [
    "#Central Tendency\n",
    "import statistics\n",
    "\n",
    "TransactionAmount = TransactionAmount['TransactionAmount'].tolist()\n",
    "print('Mean: ',statistics.mean(TransactionAmount))\n",
    "print('Median: ',statistics.median(TransactionAmount))\n",
    "print('Mode: ',statistics.mode(TransactionAmount))"
   ]
  },
  {
   "cell_type": "markdown",
   "id": "781d637f-2a12-41c6-b265-da93cd246f8d",
   "metadata": {},
   "source": [
    "Analisis Central Tendency:\n",
    "1. Rata-rata penjualan naik menjadi `$102.6` (lebih tinggi dari rata-rata sebelumnya `$100`), menunjukkan adanya peningkatan setelah pelatihan.\n",
    "2. Median tetap di `$100`, yang berarti setengah dari pekerja masih memiliki penjualan di bawah atau sama dengan `$100`. Ini mengindikasikan bahwa peningkatan rata-rata mungkin dipengaruhi oleh beberapa pekerja dengan penjualan tinggi (outlier).\n",
    "3. Mode = $100, menunjukkan bahwa jumlah terbesar pekerja masih mencatat penjualan sekitar angka ini."
   ]
  },
  {
   "cell_type": "code",
   "execution_count": 18,
   "id": "d3723837-3a21-4c13-955b-5144596726dc",
   "metadata": {},
   "outputs": [
    {
     "name": "stdout",
     "output_type": "stream",
     "text": [
      "Variance:  972.2399999999999\n",
      "Std Deviasi:  31.18076330047101\n",
      "Range:  100\n",
      "Quartile 1:  85.0\n",
      "Quartile 2:  100.0\n",
      "Quartile 3:  120.0\n"
     ]
    }
   ],
   "source": [
    "#Variability\n",
    "import numpy as np\n",
    "print('Variance: ', np.var(TransactionAmount))\n",
    "print('Std Deviasi: ', np.std(TransactionAmount))\n",
    "print('Range: ', np.max(TransactionAmount) - np.min(TransactionAmount))\n",
    "print('Quartile 1: ', np.quantile(TransactionAmount, 0.25))\n",
    "print('Quartile 2: ', np.quantile(TransactionAmount, 0.5))\n",
    "print('Quartile 3: ', np.quantile(TransactionAmount, 0.75))"
   ]
  },
  {
   "cell_type": "markdown",
   "id": "ebda79a1-605c-473f-968b-f363f8ac2710",
   "metadata": {},
   "source": [
    "Analisis Variabilitas Penjualan Setelah Pelatihan :\n",
    "1. Standar deviasi (31.18) dan varians (972.24) cukup besar, menunjukkan perbedaan penjualan antar pekerja cukup tinggi.\n",
    "2. Range (100) menunjukkan selisih besar antara penjualan tertinggi dan terendah.\n",
    "3. Kuartil (Q1 = 85, Q2 = 100, Q3 = 120) → Mayoritas pekerja memiliki penjualan antara 85 - 120.\n",
    "4. Variasi yang besar bisa disebabkan oleh beberapa pekerja dengan penjualan tinggi (outlier)."
   ]
  },
  {
   "cell_type": "code",
   "execution_count": 23,
   "id": "b8d14add-20f2-4042-91ca-ed11de4ffe5f",
   "metadata": {},
   "outputs": [],
   "source": [
    "#Define H0 and H1\n",
    "#H0: rata-rata sebelum pelatihan, transactions amount = 100\n",
    "#H1: rata-rata setelah pelatihan, transactions amount > 100"
   ]
  },
  {
   "cell_type": "code",
   "execution_count": 26,
   "id": "24963c99-1c0c-42a0-8b42-0f06bfb7486a",
   "metadata": {},
   "outputs": [],
   "source": [
    "#Define alpha = 0.05"
   ]
  },
  {
   "cell_type": "code",
   "execution_count": 29,
   "id": "694a9bc6-24bc-4ed7-a7a2-1ee133d00cb7",
   "metadata": {},
   "outputs": [
    {
     "name": "stdout",
     "output_type": "stream",
     "text": [
      "T-Statistic: 0.4085001556802841\n",
      "P-Value: 0.6865284813438117\n",
      "Degree of Freedom: 24\n",
      "Gagal tolak H0, tidak ada perbedaan signifikan dengan $100.\n"
     ]
    }
   ],
   "source": [
    "#Calculate t statistics and P-value\n",
    "#Perform one sample t-test\n",
    "\n",
    "statistic, p_value = stats.ttest_1samp(a=TransactionAmount, popmean=100)\n",
    "df = len(TransactionAmount) - 1\n",
    "\n",
    "print(f'T-Statistic: {statistic}')\n",
    "print(f'P-Value: {p_value}')\n",
    "print(f'Degree of Freedom: {df}')\n",
    "\n",
    "alpha = 0.05 \n",
    "if p_value < alpha:\n",
    "    print(\"Tolak H0, rata-rata berbeda secara signifikan dari $100.\")\n",
    "else:\n",
    "    print(\"Gagal tolak H0, tidak ada perbedaan signifikan dengan $100.\")"
   ]
  },
  {
   "cell_type": "code",
   "execution_count": 32,
   "id": "f131d1f2-f168-4876-958b-3eaa6fac13b3",
   "metadata": {},
   "outputs": [],
   "source": [
    "#statistic= 0.4085001556802841\n",
    "#pvalue= 0.6865284813438117\n",
    "#Degree of Freedom = 24"
   ]
  },
  {
   "cell_type": "markdown",
   "id": "70f4918d-c588-4e40-89be-777c7f43f54f",
   "metadata": {},
   "source": [
    "Conclude with alpha and p-value:\n",
    "P Value memiliki nilai lebih besar dari alpha (0,68 > 0,05), maka perusahaan x Gagal menolak H0, jadi tidak ada perbedaan yang signifikan dengan $100.\n",
    "Conclusion: \n",
    "Tidak ada perbedaan signifikan antara rata-rata penjualan setelah pelatihan (`$102.6`) dengan sebelum (`$100`)."
   ]
  },
  {
   "cell_type": "code",
   "execution_count": 37,
   "id": "a81e3e09-19b1-4b73-bfa1-b8b83cd709a2",
   "metadata": {},
   "outputs": [],
   "source": [
    "#Conclude with t statistics and critical region\n",
    "#Find the critical region"
   ]
  },
  {
   "cell_type": "code",
   "execution_count": 40,
   "id": "18333ada-c611-46a9-baf7-177e70b9dd04",
   "metadata": {},
   "outputs": [
    {
     "name": "stdout",
     "output_type": "stream",
     "text": [
      "Critical Region: 1.7108820799094275\n"
     ]
    }
   ],
   "source": [
    "#H1: larger (right side)\n",
    "crit_region = stats.t.ppf(1-alpha, df)\n",
    "print(f'Critical Region: {crit_region}')"
   ]
  },
  {
   "cell_type": "markdown",
   "id": "8f38dd35-df28-437f-884f-cf321f92a326",
   "metadata": {},
   "source": [
    "Critical region result\n",
    "t-stat < dari critical region, maka perusahaan x gagal menolak H0\n",
    "Conclusion: Tidak ada cukup bukti untuk menyatakan bahwa rata-rata sampel berbeda secara signifikan dari rata-rata populasi yang diuji. Dengan kata lain, tidak ada efek yang signifikan dari pelatihan yang dilakukan oleh perusahaan x. "
   ]
  },
  {
   "cell_type": "code",
   "execution_count": null,
   "id": "171e45eb-0f27-4402-ac20-203ee62c69d2",
   "metadata": {},
   "outputs": [],
   "source": []
  }
 ],
 "metadata": {
  "kernelspec": {
   "display_name": "Python [conda env:base] *",
   "language": "python",
   "name": "conda-base-py"
  },
  "language_info": {
   "codemirror_mode": {
    "name": "ipython",
    "version": 3
   },
   "file_extension": ".py",
   "mimetype": "text/x-python",
   "name": "python",
   "nbconvert_exporter": "python",
   "pygments_lexer": "ipython3",
   "version": "3.12.3"
  }
 },
 "nbformat": 4,
 "nbformat_minor": 5
}
